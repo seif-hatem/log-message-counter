{
 "cells": [
  {
   "cell_type": "code",
   "execution_count": 1,
   "metadata": {},
   "outputs": [],
   "source": [
    "from pyspark import SparkContext, SparkConf\n",
    "# #Spark Config\n",
    "conf = SparkConf().setAppName(\"sample_app\")\n",
    "sc = SparkContext(conf=conf)\n"
   ]
  },
  {
   "cell_type": "code",
   "execution_count": 2,
   "metadata": {},
   "outputs": [],
   "source": [
    "textFile = sc.textFile(\"hdfs://localhost:9000/flume/projct/17-07-25/*\") "
   ]
  },
  {
   "cell_type": "code",
   "execution_count": 3,
   "metadata": {},
   "outputs": [
    {
     "data": {
      "text/plain": [
       "82"
      ]
     },
     "execution_count": 3,
     "metadata": {},
     "output_type": "execute_result"
    }
   ],
   "source": [
    "textFile.count()"
   ]
  },
  {
   "cell_type": "code",
   "execution_count": 4,
   "metadata": {},
   "outputs": [],
   "source": [
    "firstWord=textFile \\\n",
    "    .filter(lambda line: len(line) > 0) \\\n",
    "    .map(lambda line: line.split(' ')[0])"
   ]
  },
  {
   "cell_type": "code",
   "execution_count": 5,
   "metadata": {},
   "outputs": [
    {
     "data": {
      "text/plain": [
       "['ziad',\n",
       " 'ali',\n",
       " 'jack',\n",
       " 'john',\n",
       " 'john',\n",
       " 'john',\n",
       " 'john',\n",
       " 'sara',\n",
       " 'ziad',\n",
       " 'ziad',\n",
       " 'sara',\n",
       " 'john',\n",
       " 'jack',\n",
       " 'sara',\n",
       " 'ali',\n",
       " 'john',\n",
       " 'ali',\n",
       " 'ali',\n",
       " 'sara',\n",
       " 'sara',\n",
       " 'john',\n",
       " 'john',\n",
       " 'ali',\n",
       " 'sara',\n",
       " 'ali',\n",
       " 'ziad',\n",
       " 'ziad',\n",
       " 'jack',\n",
       " 'john',\n",
       " 'ziad',\n",
       " 'jack',\n",
       " 'jack',\n",
       " 'ziad',\n",
       " 'ali',\n",
       " 'sara',\n",
       " 'ali',\n",
       " 'john',\n",
       " 'sara',\n",
       " 'ziad',\n",
       " 'ali',\n",
       " 'ziad',\n",
       " 'jack',\n",
       " 'ali',\n",
       " 'john',\n",
       " 'john',\n",
       " 'john',\n",
       " 'ziad',\n",
       " 'ali',\n",
       " 'john',\n",
       " 'jack',\n",
       " 'john',\n",
       " 'jack',\n",
       " 'ziad',\n",
       " 'sara',\n",
       " 'john',\n",
       " 'john',\n",
       " 'jack',\n",
       " 'sara',\n",
       " 'sara',\n",
       " 'john',\n",
       " 'sara',\n",
       " 'ziad',\n",
       " 'jack',\n",
       " 'sara',\n",
       " 'ziad',\n",
       " 'sara',\n",
       " 'jack',\n",
       " 'jack',\n",
       " 'john',\n",
       " 'ali',\n",
       " 'sara',\n",
       " 'ali',\n",
       " 'john',\n",
       " 'sara',\n",
       " 'ziad',\n",
       " 'jack',\n",
       " 'john',\n",
       " 'ali',\n",
       " 'ziad',\n",
       " 'sara',\n",
       " 'john',\n",
       " 'ali']"
      ]
     },
     "execution_count": 5,
     "metadata": {},
     "output_type": "execute_result"
    }
   ],
   "source": [
    "firstWord.collect()"
   ]
  },
  {
   "cell_type": "code",
   "execution_count": 7,
   "metadata": {},
   "outputs": [
    {
     "data": {
      "text/plain": [
       "[('ziad', 1),\n",
       " ('ali', 1),\n",
       " ('jack', 1),\n",
       " ('john', 1),\n",
       " ('john', 1),\n",
       " ('john', 1),\n",
       " ('john', 1)]"
      ]
     },
     "execution_count": 7,
     "metadata": {},
     "output_type": "execute_result"
    }
   ],
   "source": [
    "wordcountB=firstWord.map(lambda w:(w,1))\n",
    "wordcountB.take(7)"
   ]
  },
  {
   "cell_type": "code",
   "execution_count": 13,
   "metadata": {},
   "outputs": [
    {
     "data": {
      "text/plain": [
       "[('sara', 17), ('ali', 15), ('ziad', 15), ('jack', 13), ('john', 22)]"
      ]
     },
     "execution_count": 13,
     "metadata": {},
     "output_type": "execute_result"
    }
   ],
   "source": [
    "finalWordCount=wordcountB.reduceByKey(lambda fr,sec: fr+sec)\n",
    "finalWordCount.collect()"
   ]
  },
  {
   "cell_type": "code",
   "execution_count": null,
   "metadata": {},
   "outputs": [],
   "source": []
  }
 ],
 "metadata": {
  "kernelspec": {
   "display_name": "Python 3",
   "language": "python",
   "name": "python3"
  },
  "language_info": {
   "codemirror_mode": {
    "name": "ipython",
    "version": 3
   },
   "file_extension": ".py",
   "mimetype": "text/x-python",
   "name": "python",
   "nbconvert_exporter": "python",
   "pygments_lexer": "ipython3",
   "version": "3.7.4"
  }
 },
 "nbformat": 4,
 "nbformat_minor": 2
}
